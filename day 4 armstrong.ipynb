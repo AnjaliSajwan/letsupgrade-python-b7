{
 "cells": [
  {
   "cell_type": "code",
   "execution_count": 1,
   "metadata": {},
   "outputs": [
    {
     "name": "stdout",
     "output_type": "stream",
     "text": [
      "the first armstrong number is- 1741725\n"
     ]
    }
   ],
   "source": [
    "for x in range(1042000,702648625):\n",
    "    rs=len(str(x))\n",
    "    sum=0\n",
    "    num=x\n",
    "    while num>0:\n",
    "        r=num%10\n",
    "        sum=sum+(r**rs)\n",
    "        num=num//10\n",
    "    if sum==x:\n",
    "        print(\"the first armstrong number is-\",x)\n",
    "        break\n",
    "    \n",
    "    \n",
    "        \n",
    "        \n",
    "        "
   ]
  },
  {
   "cell_type": "code",
   "execution_count": null,
   "metadata": {},
   "outputs": [],
   "source": [
    "str."
   ]
  },
  {
   "cell_type": "code",
   "execution_count": null,
   "metadata": {},
   "outputs": [],
   "source": []
  }
 ],
 "metadata": {
  "kernelspec": {
   "display_name": "Python 3",
   "language": "python",
   "name": "python3"
  },
  "language_info": {
   "codemirror_mode": {
    "name": "ipython",
    "version": 3
   },
   "file_extension": ".py",
   "mimetype": "text/x-python",
   "name": "python",
   "nbconvert_exporter": "python",
   "pygments_lexer": "ipython3",
   "version": "3.8.3"
  }
 },
 "nbformat": 4,
 "nbformat_minor": 4
}
