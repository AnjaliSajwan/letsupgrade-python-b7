{
 "cells": [
  {
   "cell_type": "markdown",
   "metadata": {},
   "source": [
    "# problem 1 decorators"
   ]
  },
  {
   "cell_type": "code",
   "execution_count": 10,
   "metadata": {},
   "outputs": [],
   "source": [
    "def checkoddeven(some_fuction):\n",
    "    \n",
    "    def oddeven():\n",
    "        temp = some_fuction()\n",
    "        for x in temp:\n",
    "            if x%2==0:\n",
    "                print(x,\"is a even number\")\n",
    "            else:\n",
    "                print(x,\"is a odd number\")\n",
    "    return oddeven"
   ]
  },
  {
   "cell_type": "code",
   "execution_count": 11,
   "metadata": {},
   "outputs": [],
   "source": [
    "@checkoddeven\n",
    "def getinput():\n",
    "    x= int(input(\"enter the lower range\"))\n",
    "    y = int(input(\"enter the upper range\"))\n",
    "    listy =list(range(x,y))\n",
    "    return listy"
   ]
  },
  {
   "cell_type": "code",
   "execution_count": 12,
   "metadata": {},
   "outputs": [
    {
     "name": "stdout",
     "output_type": "stream",
     "text": [
      "enter the lower range100\n",
      "enter the upper range200\n",
      "100 is a even number\n",
      "101 is a odd number\n",
      "102 is a even number\n",
      "103 is a odd number\n",
      "104 is a even number\n",
      "105 is a odd number\n",
      "106 is a even number\n",
      "107 is a odd number\n",
      "108 is a even number\n",
      "109 is a odd number\n",
      "110 is a even number\n",
      "111 is a odd number\n",
      "112 is a even number\n",
      "113 is a odd number\n",
      "114 is a even number\n",
      "115 is a odd number\n",
      "116 is a even number\n",
      "117 is a odd number\n",
      "118 is a even number\n",
      "119 is a odd number\n",
      "120 is a even number\n",
      "121 is a odd number\n",
      "122 is a even number\n",
      "123 is a odd number\n",
      "124 is a even number\n",
      "125 is a odd number\n",
      "126 is a even number\n",
      "127 is a odd number\n",
      "128 is a even number\n",
      "129 is a odd number\n",
      "130 is a even number\n",
      "131 is a odd number\n",
      "132 is a even number\n",
      "133 is a odd number\n",
      "134 is a even number\n",
      "135 is a odd number\n",
      "136 is a even number\n",
      "137 is a odd number\n",
      "138 is a even number\n",
      "139 is a odd number\n",
      "140 is a even number\n",
      "141 is a odd number\n",
      "142 is a even number\n",
      "143 is a odd number\n",
      "144 is a even number\n",
      "145 is a odd number\n",
      "146 is a even number\n",
      "147 is a odd number\n",
      "148 is a even number\n",
      "149 is a odd number\n",
      "150 is a even number\n",
      "151 is a odd number\n",
      "152 is a even number\n",
      "153 is a odd number\n",
      "154 is a even number\n",
      "155 is a odd number\n",
      "156 is a even number\n",
      "157 is a odd number\n",
      "158 is a even number\n",
      "159 is a odd number\n",
      "160 is a even number\n",
      "161 is a odd number\n",
      "162 is a even number\n",
      "163 is a odd number\n",
      "164 is a even number\n",
      "165 is a odd number\n",
      "166 is a even number\n",
      "167 is a odd number\n",
      "168 is a even number\n",
      "169 is a odd number\n",
      "170 is a even number\n",
      "171 is a odd number\n",
      "172 is a even number\n",
      "173 is a odd number\n",
      "174 is a even number\n",
      "175 is a odd number\n",
      "176 is a even number\n",
      "177 is a odd number\n",
      "178 is a even number\n",
      "179 is a odd number\n",
      "180 is a even number\n",
      "181 is a odd number\n",
      "182 is a even number\n",
      "183 is a odd number\n",
      "184 is a even number\n",
      "185 is a odd number\n",
      "186 is a even number\n",
      "187 is a odd number\n",
      "188 is a even number\n",
      "189 is a odd number\n",
      "190 is a even number\n",
      "191 is a odd number\n",
      "192 is a even number\n",
      "193 is a odd number\n",
      "194 is a even number\n",
      "195 is a odd number\n",
      "196 is a even number\n",
      "197 is a odd number\n",
      "198 is a even number\n",
      "199 is a odd number\n"
     ]
    }
   ],
   "source": [
    "getinput()"
   ]
  },
  {
   "cell_type": "markdown",
   "metadata": {},
   "source": [
    "# handling errors"
   ]
  },
  {
   "cell_type": "code",
   "execution_count": 3,
   "metadata": {},
   "outputs": [],
   "source": [
    "file = open(\"letscode.txt\",\"w\")\n",
    "file.write(\"this is the filw created using the file handling in python\")\n",
    "file.close()"
   ]
  },
  {
   "cell_type": "code",
   "execution_count": 16,
   "metadata": {},
   "outputs": [
    {
     "name": "stdout",
     "output_type": "stream",
     "text": [
      "not writable\n",
      "it will be printed wether the condition is met or not\n"
     ]
    }
   ],
   "source": [
    "try:\n",
    "    file = open(\"letscode.txt\",\"r\")\n",
    "    file.write(\"hey this is the new line\")\n",
    "    file.close()\n",
    "except Exception as e:\n",
    "    print(e)\n",
    "else:\n",
    "    print(\"successfully written\")\n",
    "finally:\n",
    "    print(\"it will be printed wether the condition is met or not\")\n",
    "    "
   ]
  },
  {
   "cell_type": "code",
   "execution_count": null,
   "metadata": {},
   "outputs": [],
   "source": []
  }
 ],
 "metadata": {
  "kernelspec": {
   "display_name": "Python 3",
   "language": "python",
   "name": "python3"
  },
  "language_info": {
   "codemirror_mode": {
    "name": "ipython",
    "version": 3
   },
   "file_extension": ".py",
   "mimetype": "text/x-python",
   "name": "python",
   "nbconvert_exporter": "python",
   "pygments_lexer": "ipython3",
   "version": "3.8.3"
  }
 },
 "nbformat": 4,
 "nbformat_minor": 4
}
