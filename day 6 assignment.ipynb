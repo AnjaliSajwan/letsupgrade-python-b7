{
 "cells": [
  {
   "cell_type": "markdown",
   "metadata": {},
   "source": [
    "bank account class ."
   ]
  },
  {
   "cell_type": "code",
   "execution_count": 27,
   "metadata": {},
   "outputs": [],
   "source": [
    "class bankaccount():\n",
    "    def __init__(self,ownername,balance):\n",
    "        self.ownername=ownername\n",
    "        self.balance=balance\n",
    "    def deposit(self, balance1):\n",
    "        self.balance=self.balance + balance1\n",
    "        print( self.ownername,\"amount successfully deposited in the account\")\n",
    "        print(\"available balance after deposit\",self.balance)\n",
    "    def withdrwals(self,amount):\n",
    "        if self.balance>amount:\n",
    "            self.balance=self.balance-amount\n",
    "            print( amount,\"amount withdrawn from the account\")\n",
    "            print(\"available balace is \",self.balance)\n",
    "        else:\n",
    "            print(\"not enough balance available in the account\")\n",
    "        "
   ]
  },
  {
   "cell_type": "code",
   "execution_count": 28,
   "metadata": {},
   "outputs": [
    {
     "name": "stdout",
     "output_type": "stream",
     "text": [
      "akash amount successfully deposited in the account\n",
      "available balance after deposit 15000\n"
     ]
    }
   ],
   "source": [
    "person1=bankaccount(\"akash\",10000)\n",
    "person1.deposit(5000)"
   ]
  },
  {
   "cell_type": "code",
   "execution_count": 9,
   "metadata": {},
   "outputs": [
    {
     "name": "stdout",
     "output_type": "stream",
     "text": [
      "not enough balance available in the account\n"
     ]
    }
   ],
   "source": [
    "person1.withdrwals(20000)"
   ]
  },
  {
   "cell_type": "code",
   "execution_count": 10,
   "metadata": {},
   "outputs": [
    {
     "name": "stdout",
     "output_type": "stream",
     "text": [
      "6000 amount withdrawn from the account\n",
      "available balace is  9000\n"
     ]
    }
   ],
   "source": [
    "person1.withdrwals(6000)"
   ]
  },
  {
   "cell_type": "markdown",
   "metadata": {},
   "source": [
    "# volume and surfacearea of a cone\n"
   ]
  },
  {
   "cell_type": "code",
   "execution_count": 21,
   "metadata": {},
   "outputs": [],
   "source": [
    "import math\n",
    "class cone():\n",
    "    def __init__(self,R,H):\n",
    "        self.R=R\n",
    "        self.H=H\n",
    "    def volume(self):\n",
    "        vol=float(math.pi*self.R*self.R*self.H*(1.0/3))\n",
    "        print(\"volume of the cone is\",vol)\n",
    "    def surfacearea(self):\n",
    "        base = math.pi*self.R*self.R\n",
    "        length=math.sqrt(self.R*self.R + self.H*self.H)\n",
    "        side=math.pi*self.R*length\n",
    "        totalarea = base+side\n",
    "        print(\"surface area of the cone is\",totalarea)\n",
    "        "
   ]
  },
  {
   "cell_type": "code",
   "execution_count": 15,
   "metadata": {},
   "outputs": [
    {
     "name": "stdout",
     "output_type": "stream",
     "text": [
      "volume of the cone is 2094395.1023931953\n"
     ]
    }
   ],
   "source": [
    "cone1=cone(100,200)\n",
    "cone1.volume()"
   ]
  },
  {
   "cell_type": "code",
   "execution_count": 22,
   "metadata": {},
   "outputs": [
    {
     "name": "stdout",
     "output_type": "stream",
     "text": [
      "surface area of the cone is 35.22071741263713\n"
     ]
    }
   ],
   "source": [
    "cone2=cone(2,3)\n",
    "cone2.surfacearea()"
   ]
  },
  {
   "cell_type": "code",
   "execution_count": 24,
   "metadata": {},
   "outputs": [
    {
     "name": "stdout",
     "output_type": "stream",
     "text": [
      "volume of the cone is 18.84955592153876\n",
      "surface area of the cone is 62.25585407972507\n"
     ]
    }
   ],
   "source": [
    "cone3=cone(3,2)\n",
    "cone3.volume()\n",
    "cone3.surfacearea()"
   ]
  },
  {
   "cell_type": "code",
   "execution_count": null,
   "metadata": {},
   "outputs": [],
   "source": []
  }
 ],
 "metadata": {
  "kernelspec": {
   "display_name": "Python 3",
   "language": "python",
   "name": "python3"
  },
  "language_info": {
   "codemirror_mode": {
    "name": "ipython",
    "version": 3
   },
   "file_extension": ".py",
   "mimetype": "text/x-python",
   "name": "python",
   "nbconvert_exporter": "python",
   "pygments_lexer": "ipython3",
   "version": "3.8.3"
  }
 },
 "nbformat": 4,
 "nbformat_minor": 4
}
